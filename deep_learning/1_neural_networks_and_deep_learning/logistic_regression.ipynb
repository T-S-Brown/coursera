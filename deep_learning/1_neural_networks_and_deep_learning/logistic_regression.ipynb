{
 "cells": [
  {
   "cell_type": "code",
   "execution_count": 1,
   "metadata": {},
   "outputs": [],
   "source": [
    "import numpy as np\n",
    "import matplotlib.pyplot as plt\n",
    "from sklearn.datasets import fetch_openml\n",
    "from logistic_regression import *"
   ]
  },
  {
   "cell_type": "code",
   "execution_count": 2,
   "metadata": {},
   "outputs": [],
   "source": [
    "# Download the Data\n",
    "X_raw, y_raw = fetch_openml('mnist_784', version=1, return_X_y=True)"
   ]
  },
  {
   "cell_type": "code",
   "execution_count": 3,
   "metadata": {},
   "outputs": [],
   "source": [
    "n_train_samples = 200\n",
    "n_test_samples = 200\n",
    "total = n_train_samples + n_test_samples"
   ]
  },
  {
   "cell_type": "code",
   "execution_count": 4,
   "metadata": {},
   "outputs": [],
   "source": [
    "# Preprocess X\n",
    "X = X_raw / 255.\n",
    "X_train = X[:n_train_samples]\n",
    "X_test = X[n_train_samples:total]\n",
    "X_train = X_train.reshape(X_train.shape[1], X_train.shape[0])\n",
    "X_test = X_test.reshape(X_test.shape[1], X_test.shape[0])"
   ]
  },
  {
   "cell_type": "code",
   "execution_count": 5,
   "metadata": {},
   "outputs": [],
   "source": [
    "# Preprocess y\n",
    "y = (y_raw == '7').astype(int)\n",
    "y_train = y[:n_train_samples]\n",
    "y_test = y[n_train_samples:total]\n",
    "y_train = y_train.reshape(1, y_train.shape[0])\n",
    "y_test = y_test.reshape(1, y_test.shape[0])"
   ]
  },
  {
   "cell_type": "code",
   "execution_count": 6,
   "metadata": {},
   "outputs": [
    {
     "name": "stdout",
     "output_type": "stream",
     "text": [
      "training data shape:  (784, 200)\n",
      "training target shape:  (1, 200)\n"
     ]
    }
   ],
   "source": [
    "print('training data shape: ', X_train.shape)\n",
    "print('training target shape: ', y_train.shape)"
   ]
  },
  {
   "cell_type": "code",
   "execution_count": 7,
   "metadata": {},
   "outputs": [
    {
     "name": "stdout",
     "output_type": "stream",
     "text": [
      "Cost after iteration 0: 0.693147\n",
      "Cost after iteration 100: 0.151613\n",
      "Cost after iteration 200: 0.108825\n",
      "Cost after iteration 300: 0.085116\n",
      "Cost after iteration 400: 0.069750\n",
      "Cost after iteration 500: 0.058934\n",
      "Cost after iteration 600: 0.050909\n",
      "Cost after iteration 700: 0.044726\n",
      "Cost after iteration 800: 0.039826\n",
      "Cost after iteration 900: 0.035853\n",
      "Cost after iteration 1000: 0.032571\n",
      "Cost after iteration 1100: 0.029819\n",
      "Cost after iteration 1200: 0.027480\n",
      "Cost after iteration 1300: 0.025469\n",
      "Cost after iteration 1400: 0.023723\n",
      "Cost after iteration 1500: 0.022195\n",
      "Cost after iteration 1600: 0.020845\n",
      "Cost after iteration 1700: 0.019646\n",
      "Cost after iteration 1800: 0.018573\n",
      "Cost after iteration 1900: 0.017609\n",
      "train accuracy: 100.0 %\n",
      "test accuracy: 87.0 %\n"
     ]
    }
   ],
   "source": [
    "results = model(X_train, y_train, X_test, y_test,\n",
    "                num_iterations = 2000,\n",
    "                learning_rate = 0.5,\n",
    "                print_cost = True)"
   ]
  },
  {
   "cell_type": "code",
   "execution_count": 8,
   "metadata": {},
   "outputs": [
    {
     "name": "stdout",
     "output_type": "stream",
     "text": [
      "Predicted:  0.0\n"
     ]
    },
    {
     "data": {
      "image/png": "[encoded data removed]",
      "text/plain": [
       "<Figure size 432x288 with 1 Axes>"
      ]
     },
     "metadata": {
      "needs_background": "light"
     },
     "output_type": "display_data"
    }
   ],
   "source": [
    "index = 14\n",
    "raw_index = n_train_samples + index\n",
    "plt.imshow(X_raw[raw_index,:].reshape((28, 28)), cmap='gray')\n",
    "print('Predicted: ', results['Y_prediction_test'][0][index])"
   ]
  },
  {
   "cell_type": "code",
   "execution_count": null,
   "metadata": {},
   "outputs": [],
   "source": []
  }
 ],
 "metadata": {
  "kernelspec": {
   "display_name": "Python 3",
   "language": "python",
   "name": "python3"
  },
  "language_info": {
   "codemirror_mode": {
    "name": "ipython",
    "version": 3
   },
   "file_extension": ".py",
   "mimetype": "text/x-python",
   "name": "python",
   "nbconvert_exporter": "python",
   "pygments_lexer": "ipython3",
   "version": "3.7.4"
  }
 },
 "nbformat": 4,
 "nbformat_minor": 4
}
